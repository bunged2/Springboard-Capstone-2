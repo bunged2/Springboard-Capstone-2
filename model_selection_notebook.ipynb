{
 "cells": [
  {
   "cell_type": "code",
   "execution_count": 1,
   "id": "d1af2406",
   "metadata": {},
   "outputs": [],
   "source": [
    "import pandas as pd\n",
    "import numpy as np\n",
    "import matplotlib.pyplot as plt\n",
    "import seaborn as sns\n",
    "from sklearn.model_selection import train_test_split, TimeSeriesSplit\n",
    "from sklearn.preprocessing import StandardScaler\n",
    "from sklearn.ensemble import RandomForestRegressor\n",
    "from sklearn.linear_model import Lasso, SGDRegressor\n",
    "from sklearn.tree import DecisionTreeRegressor"
   ]
  },
  {
   "cell_type": "code",
   "execution_count": 2,
   "id": "1d611463",
   "metadata": {},
   "outputs": [
    {
     "name": "stderr",
     "output_type": "stream",
     "text": [
      "C:\\Users\\bunge\\anaconda3\\lib\\site-packages\\numpy\\lib\\arraysetops.py:583: FutureWarning: elementwise comparison failed; returning scalar instead, but in the future will perform elementwise comparison\n",
      "  mask |= (ar1 == a)\n"
     ]
    }
   ],
   "source": [
    "df = pd.read_csv('data/processed_data.csv', index_col=0)"
   ]
  },
  {
   "cell_type": "code",
   "execution_count": 3,
   "id": "d09e0caf",
   "metadata": {},
   "outputs": [],
   "source": [
    "X = df.loc[:,['return', 'gain_loss', 'macd', 'macd_diff_signal', \\\n",
    "              'diff_day', 'diff_10day', 'diff_ema12', 'diff_ema26',\\\n",
    "              'Exchange_NGM', 'Exchange_NMS', 'Exchange_NYQ', \\\n",
    "              'Sector_Communication Services', 'Sector_Consumer Cyclical', \\\n",
    "              'Sector_Consumer Defensive', 'Sector_Energy', \\\n",
    "              'Sector_Financial Services', 'Sector_Healthcare', 'Sector_Industrials', \\\n",
    "              'Sector_Real Estate', 'Sector_Technology', 'Sector_Utilities', \\\n",
    "              'cap_grouping_medium', 'cap_grouping_small']]\n",
    "y = df.loc[:,['next_close']]"
   ]
  },
  {
   "cell_type": "code",
   "execution_count": 4,
   "id": "972070c7",
   "metadata": {},
   "outputs": [],
   "source": [
    "#X_train, X_test, y_train, y_test = train_test_split(X, y, test_size=0.2)"
   ]
  },
  {
   "cell_type": "code",
   "execution_count": 5,
   "id": "eee45e63",
   "metadata": {},
   "outputs": [],
   "source": [
    "#model = DecisionTreeRegressor()\n",
    "#model.fit(X_train, y_train)\n",
    "\n",
    "#y_pred = model.predict(X_test)"
   ]
  },
  {
   "cell_type": "code",
   "execution_count": 6,
   "id": "0b534948",
   "metadata": {},
   "outputs": [],
   "source": [
    "from sklearn.metrics import r2_score\n",
    "\n",
    "#score = r2_score(y_pred, y_test)\n",
    "#print(score)"
   ]
  },
  {
   "cell_type": "code",
   "execution_count": 7,
   "id": "0149de35",
   "metadata": {},
   "outputs": [],
   "source": [
    "#model = Lasso(alpha=0.1)\n",
    "#model.fit(X_train, y_train)\n",
    "\n",
    "#y_pred = model.predict(X_test)"
   ]
  },
  {
   "cell_type": "code",
   "execution_count": 8,
   "id": "b6fdc3df",
   "metadata": {},
   "outputs": [],
   "source": [
    "#score = r2_score(y_pred, y_test)\n",
    "#print(score)"
   ]
  },
  {
   "cell_type": "code",
   "execution_count": 9,
   "id": "73ae4c42",
   "metadata": {},
   "outputs": [],
   "source": [
    "#model = SGDRegressor()\n",
    "#model.fit(X_train, y_train.to_numpy().ravel())\n",
    "\n",
    "#y_pred = model.predict(X_test)"
   ]
  },
  {
   "cell_type": "code",
   "execution_count": 10,
   "id": "0bfc7927",
   "metadata": {},
   "outputs": [],
   "source": [
    "#score = r2_score(y_pred, y_test)\n",
    "#print(score)"
   ]
  },
  {
   "cell_type": "code",
   "execution_count": 11,
   "id": "8d199568",
   "metadata": {},
   "outputs": [],
   "source": [
    "#model = RandomForestRegressor(n_jobs=-1)\n",
    "#model.fit(X_train, y_train.to_numpy().ravel())\n",
    "\n",
    "#y_pred = model.predict(X_test)"
   ]
  },
  {
   "cell_type": "code",
   "execution_count": 12,
   "id": "9bf4f02d",
   "metadata": {},
   "outputs": [],
   "source": [
    "#score = r2_score(y_pred, y_test)\n",
    "#print(score)"
   ]
  },
  {
   "cell_type": "code",
   "execution_count": 13,
   "id": "8a392919",
   "metadata": {},
   "outputs": [],
   "source": [
    "#Trying to use TimeSeriesSplit instead of train_test_split\n",
    "tscv = TimeSeriesSplit()\n",
    "\n",
    "train_size = round(len(X) * 0.8)\n",
    "X_train = X.iloc[:train_size]\n",
    "X_test = X.iloc[train_size:]\n",
    "y_train = y.to_numpy().ravel()[:train_size]\n",
    "y_test = y.to_numpy().ravel()[train_size:]"
   ]
  },
  {
   "cell_type": "code",
   "execution_count": 14,
   "id": "8bbf47ac",
   "metadata": {},
   "outputs": [],
   "source": [
    "#Scaling because it may be important in some regressors\n",
    "scaler = StandardScaler()\n",
    "scaler.fit(X_train)\n",
    "X_train = scaler.transform(X_train)\n",
    "X_test = scaler.transform(X_test)"
   ]
  },
  {
   "cell_type": "code",
   "execution_count": 15,
   "id": "1c278acc",
   "metadata": {
    "scrolled": true
   },
   "outputs": [
    {
     "name": "stdout",
     "output_type": "stream",
     "text": [
      "Fold number: 1\n",
      "R2 score is: 0.9972395793513694\n",
      "Fold number: 2\n",
      "R2 score is: 0.997961125671099\n",
      "Fold number: 3\n",
      "R2 score is: 0.9974280021119938\n",
      "Fold number: 4\n",
      "R2 score is: 0.9982680002750909\n",
      "Fold number: 5\n",
      "R2 score is: 0.6728916945533914\n"
     ]
    }
   ],
   "source": [
    "for i, (train_idx, test_idx) in enumerate(tscv.split(X_train)):\n",
    "    model = DecisionTreeRegressor()\n",
    "    model.fit(X.iloc[train_idx], y.to_numpy().ravel()[train_idx])\n",
    "\n",
    "    y_pred = model.predict(X.iloc[test_idx])\n",
    "    score = r2_score(y_pred, y.to_numpy().ravel()[test_idx])\n",
    "    print(f\"Fold number: {i+1}\")\n",
    "    print(f\"R2 score is: {score}\")"
   ]
  },
  {
   "cell_type": "markdown",
   "id": "5dbbc20c",
   "metadata": {},
   "source": [
    "Decision Tree seemed feasible, but for some reason, it does not fit the last fold very well (arguably the most important)."
   ]
  },
  {
   "cell_type": "code",
   "execution_count": 16,
   "id": "1036f9e0",
   "metadata": {
    "scrolled": true
   },
   "outputs": [
    {
     "name": "stdout",
     "output_type": "stream",
     "text": [
      "Fold number: 1\n",
      "R2 score is: 0.9994420837225217\n",
      "Fold number: 2\n",
      "R2 score is: 0.9992624240665585\n",
      "Fold number: 3\n",
      "R2 score is: 0.9990557312896744\n",
      "Fold number: 4\n",
      "R2 score is: 0.9993213598832869\n",
      "Fold number: 5\n",
      "R2 score is: 0.9994920161796849\n"
     ]
    }
   ],
   "source": [
    "for i, (train_idx, test_idx) in enumerate(tscv.split(X_train)):\n",
    "    model = Lasso(alpha=0.1)\n",
    "    model.fit(X.iloc[train_idx], y.to_numpy().ravel()[train_idx])\n",
    "\n",
    "    y_pred = model.predict(X.iloc[test_idx])\n",
    "    score = r2_score(y_pred, y.to_numpy().ravel()[test_idx])\n",
    "    print(f\"Fold number: {i+1}\")\n",
    "    print(f\"R2 score is: {score}\")"
   ]
  },
  {
   "cell_type": "markdown",
   "id": "acabcf51",
   "metadata": {},
   "source": [
    "It seems like Lasso is a strong candidate for the final model, it fits well on every fold, and fits the best on the final fold even."
   ]
  },
  {
   "cell_type": "code",
   "execution_count": 17,
   "id": "917a4c5a",
   "metadata": {},
   "outputs": [
    {
     "name": "stdout",
     "output_type": "stream",
     "text": [
      "Fold number: 1\n",
      "R2 score is: -0.27580306551099754\n",
      "Fold number: 2\n",
      "R2 score is: -0.5803813470061407\n",
      "Fold number: 3\n",
      "R2 score is: -1.148517732353508\n",
      "Fold number: 4\n",
      "R2 score is: -0.013787860724928436\n",
      "Fold number: 5\n",
      "R2 score is: -0.015929998643702703\n"
     ]
    }
   ],
   "source": [
    "for i, (train_idx, test_idx) in enumerate(tscv.split(X_train)):\n",
    "    model = SGDRegressor(alpha=0.1)\n",
    "    model.fit(X.iloc[train_idx], y.to_numpy().ravel()[train_idx])\n",
    "\n",
    "    y_pred = model.predict(X.iloc[test_idx])\n",
    "    score = r2_score(y_pred, y.to_numpy().ravel()[test_idx])\n",
    "    print(f\"Fold number: {i+1}\")\n",
    "    print(f\"R2 score is: {score}\")"
   ]
  },
  {
   "cell_type": "markdown",
   "id": "abaa24dd",
   "metadata": {},
   "source": [
    "SGDRegression does not seem to work well at all."
   ]
  },
  {
   "cell_type": "code",
   "execution_count": 18,
   "id": "fe9d4c61",
   "metadata": {},
   "outputs": [
    {
     "name": "stdout",
     "output_type": "stream",
     "text": [
      "Fold number: 1\n",
      "R2 score is: 0.997986939080824\n",
      "Fold number: 2\n",
      "R2 score is: 0.9990818783835307\n",
      "Fold number: 3\n",
      "R2 score is: 0.9988817930186307\n",
      "Fold number: 4\n",
      "R2 score is: 0.9991873488570192\n",
      "Fold number: 5\n",
      "R2 score is: 0.6796619140774616\n"
     ]
    }
   ],
   "source": [
    "for i, (train_idx, test_idx) in enumerate(tscv.split(X_train)):\n",
    "    model = RandomForestRegressor(n_jobs=-1)\n",
    "    model.fit(X.iloc[train_idx], y.to_numpy().ravel()[train_idx])\n",
    "\n",
    "    y_pred = model.predict(X.iloc[test_idx])\n",
    "    score = r2_score(y_pred, y.to_numpy().ravel()[test_idx])\n",
    "    print(f\"Fold number: {i+1}\")\n",
    "    print(f\"R2 score is: {score}\")"
   ]
  },
  {
   "cell_type": "markdown",
   "id": "d114741b",
   "metadata": {},
   "source": [
    "Between the large training time, and the poor fitting in the last fold, Random Forest would not work."
   ]
  },
  {
   "cell_type": "code",
   "execution_count": 22,
   "id": "38198fcd",
   "metadata": {},
   "outputs": [
    {
     "name": "stderr",
     "output_type": "stream",
     "text": [
      "C:\\Users\\bunge\\anaconda3\\lib\\site-packages\\sklearn\\linear_model\\_coordinate_descent.py:530: ConvergenceWarning: Objective did not converge. You might want to increase the number of iterations. Duality gap: 645911.9418215696, tolerance: 330921.6750848954\n",
      "  model = cd_fast.enet_coordinate_descent(\n"
     ]
    },
    {
     "name": "stdout",
     "output_type": "stream",
     "text": [
      "Fold number: 1\n",
      "Alpha is: 0.001\n",
      "R2 score is: 0.9994425883131448\n"
     ]
    },
    {
     "name": "stderr",
     "output_type": "stream",
     "text": [
      "C:\\Users\\bunge\\anaconda3\\lib\\site-packages\\sklearn\\linear_model\\_coordinate_descent.py:530: ConvergenceWarning: Objective did not converge. You might want to increase the number of iterations. Duality gap: 2009874.6136342608, tolerance: 1303583.0088389297\n",
      "  model = cd_fast.enet_coordinate_descent(\n"
     ]
    },
    {
     "name": "stdout",
     "output_type": "stream",
     "text": [
      "Fold number: 2\n",
      "Alpha is: 0.001\n",
      "R2 score is: 0.9992620521465488\n"
     ]
    },
    {
     "name": "stderr",
     "output_type": "stream",
     "text": [
      "C:\\Users\\bunge\\anaconda3\\lib\\site-packages\\sklearn\\linear_model\\_coordinate_descent.py:530: ConvergenceWarning: Objective did not converge. You might want to increase the number of iterations. Duality gap: 2223514.065289867, tolerance: 1431360.8547999316\n",
      "  model = cd_fast.enet_coordinate_descent(\n"
     ]
    },
    {
     "name": "stdout",
     "output_type": "stream",
     "text": [
      "Fold number: 3\n",
      "Alpha is: 0.001\n",
      "R2 score is: 0.9990554841616918\n"
     ]
    },
    {
     "name": "stderr",
     "output_type": "stream",
     "text": [
      "C:\\Users\\bunge\\anaconda3\\lib\\site-packages\\sklearn\\linear_model\\_coordinate_descent.py:530: ConvergenceWarning: Objective did not converge. You might want to increase the number of iterations. Duality gap: 2415396.8993950235, tolerance: 1533160.9832991194\n",
      "  model = cd_fast.enet_coordinate_descent(\n"
     ]
    },
    {
     "name": "stdout",
     "output_type": "stream",
     "text": [
      "Fold number: 4\n",
      "Alpha is: 0.001\n",
      "R2 score is: 0.9993211166086611\n"
     ]
    },
    {
     "name": "stderr",
     "output_type": "stream",
     "text": [
      "C:\\Users\\bunge\\anaconda3\\lib\\site-packages\\sklearn\\linear_model\\_coordinate_descent.py:530: ConvergenceWarning: Objective did not converge. You might want to increase the number of iterations. Duality gap: 2870863.706598237, tolerance: 1762568.6713698395\n",
      "  model = cd_fast.enet_coordinate_descent(\n"
     ]
    },
    {
     "name": "stdout",
     "output_type": "stream",
     "text": [
      "Fold number: 5\n",
      "Alpha is: 0.001\n",
      "R2 score is: 0.9994920362197447\n"
     ]
    },
    {
     "name": "stderr",
     "output_type": "stream",
     "text": [
      "C:\\Users\\bunge\\anaconda3\\lib\\site-packages\\sklearn\\linear_model\\_coordinate_descent.py:530: ConvergenceWarning: Objective did not converge. You might want to increase the number of iterations. Duality gap: 663705.159241489, tolerance: 330921.6750848954\n",
      "  model = cd_fast.enet_coordinate_descent(\n"
     ]
    },
    {
     "name": "stdout",
     "output_type": "stream",
     "text": [
      "Fold number: 1\n",
      "Alpha is: 0.01\n",
      "R2 score is: 0.9994424340286878\n"
     ]
    },
    {
     "name": "stderr",
     "output_type": "stream",
     "text": [
      "C:\\Users\\bunge\\anaconda3\\lib\\site-packages\\sklearn\\linear_model\\_coordinate_descent.py:530: ConvergenceWarning: Objective did not converge. You might want to increase the number of iterations. Duality gap: 2034985.609035288, tolerance: 1303583.0088389297\n",
      "  model = cd_fast.enet_coordinate_descent(\n"
     ]
    },
    {
     "name": "stdout",
     "output_type": "stream",
     "text": [
      "Fold number: 2\n",
      "Alpha is: 0.01\n",
      "R2 score is: 0.9992624262513455\n"
     ]
    },
    {
     "name": "stderr",
     "output_type": "stream",
     "text": [
      "C:\\Users\\bunge\\anaconda3\\lib\\site-packages\\sklearn\\linear_model\\_coordinate_descent.py:530: ConvergenceWarning: Objective did not converge. You might want to increase the number of iterations. Duality gap: 2258765.2459101183, tolerance: 1431360.8547999316\n",
      "  model = cd_fast.enet_coordinate_descent(\n"
     ]
    },
    {
     "name": "stdout",
     "output_type": "stream",
     "text": [
      "Fold number: 3\n",
      "Alpha is: 0.01\n",
      "R2 score is: 0.9990555405331865\n"
     ]
    },
    {
     "name": "stderr",
     "output_type": "stream",
     "text": [
      "C:\\Users\\bunge\\anaconda3\\lib\\site-packages\\sklearn\\linear_model\\_coordinate_descent.py:530: ConvergenceWarning: Objective did not converge. You might want to increase the number of iterations. Duality gap: 2459607.047551382, tolerance: 1533160.9832991194\n",
      "  model = cd_fast.enet_coordinate_descent(\n"
     ]
    },
    {
     "name": "stdout",
     "output_type": "stream",
     "text": [
      "Fold number: 4\n",
      "Alpha is: 0.01\n",
      "R2 score is: 0.9993212955424239\n"
     ]
    },
    {
     "name": "stderr",
     "output_type": "stream",
     "text": [
      "C:\\Users\\bunge\\anaconda3\\lib\\site-packages\\sklearn\\linear_model\\_coordinate_descent.py:530: ConvergenceWarning: Objective did not converge. You might want to increase the number of iterations. Duality gap: 2925648.138813206, tolerance: 1762568.6713698395\n",
      "  model = cd_fast.enet_coordinate_descent(\n"
     ]
    },
    {
     "name": "stdout",
     "output_type": "stream",
     "text": [
      "Fold number: 5\n",
      "Alpha is: 0.01\n",
      "R2 score is: 0.999491970895336\n",
      "Fold number: 1\n",
      "Alpha is: 0.1\n",
      "R2 score is: 0.9994420837225217\n",
      "Fold number: 2\n",
      "Alpha is: 0.1\n",
      "R2 score is: 0.9992624240665585\n",
      "Fold number: 3\n",
      "Alpha is: 0.1\n",
      "R2 score is: 0.9990557312896744\n",
      "Fold number: 4\n",
      "Alpha is: 0.1\n",
      "R2 score is: 0.9993213598832869\n",
      "Fold number: 5\n",
      "Alpha is: 0.1\n",
      "R2 score is: 0.9994920161796849\n"
     ]
    }
   ],
   "source": [
    "#Lets do some grid search for Lasso\n",
    "for alpha in [0.001, 0.01, 0.1]:\n",
    "    for i, (train_idx, test_idx) in enumerate(tscv.split(X_train)):\n",
    "        model = Lasso(alpha=alpha)\n",
    "        model.fit(X.iloc[train_idx], y.to_numpy().ravel()[train_idx])\n",
    "\n",
    "        y_pred = model.predict(X.iloc[test_idx])\n",
    "        score = r2_score(y_pred, y.to_numpy().ravel()[test_idx])\n",
    "        print(f\"Fold number: {i+1}\")\n",
    "        print(f\"Alpha is: {alpha}\")\n",
    "        print(f\"R2 score is: {score}\")"
   ]
  },
  {
   "cell_type": "markdown",
   "id": "6a99781a",
   "metadata": {},
   "source": [
    "It seems like although technically the final fold score for alpha=0.001 was better than for 0.1, having an alpha did not raise any warnings about not converging, so a Lasso model with an alpha of 0.1 seems the best."
   ]
  }
 ],
 "metadata": {
  "kernelspec": {
   "display_name": "Python 3 (ipykernel)",
   "language": "python",
   "name": "python3"
  },
  "language_info": {
   "codemirror_mode": {
    "name": "ipython",
    "version": 3
   },
   "file_extension": ".py",
   "mimetype": "text/x-python",
   "name": "python",
   "nbconvert_exporter": "python",
   "pygments_lexer": "ipython3",
   "version": "3.9.7"
  }
 },
 "nbformat": 4,
 "nbformat_minor": 5
}
