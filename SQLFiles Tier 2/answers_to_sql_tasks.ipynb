{
 "cells": [
  {
   "cell_type": "code",
   "execution_count": 1,
   "id": "055bb8bb",
   "metadata": {},
   "outputs": [],
   "source": [
    "import sqlite3\n",
    "import pandas as pd\n",
    "import numpy as np"
   ]
  },
  {
   "cell_type": "code",
   "execution_count": 2,
   "id": "f6f90742",
   "metadata": {},
   "outputs": [],
   "source": [
    "connection = sqlite3.connect('sqlite_db_pythonsqlite.db')"
   ]
  },
  {
   "cell_type": "code",
   "execution_count": 3,
   "id": "b160616a",
   "metadata": {},
   "outputs": [],
   "source": [
    "cursor = connection.cursor()"
   ]
  },
  {
   "cell_type": "markdown",
   "id": "d2ad2290",
   "metadata": {},
   "source": [
    "/* Q10: Produce a list of facilities with a total revenue less than 1000.\n",
    "The output of facility name and total revenue, sorted by revenue. Remember\n",
    "that there's a different cost for guests and members! */"
   ]
  },
  {
   "cell_type": "code",
   "execution_count": 4,
   "id": "a8c6d7a9",
   "metadata": {},
   "outputs": [],
   "source": [
    "query1 = 'SELECT * FROM Bookings'\n",
    "query2 = 'SELECT * FROM Facilities'\n",
    "query3 = 'SELECT * FROM Members'"
   ]
  },
  {
   "cell_type": "code",
   "execution_count": 5,
   "id": "e1608fe2",
   "metadata": {},
   "outputs": [],
   "source": [
    "bookings = cursor.execute(query1).fetchall()\n",
    "booking_columns = cursor.execute('PRAGMA table_info(Bookings);').fetchall()\n",
    "facilities = cursor.execute(query2).fetchall()\n",
    "facilities_columns = cursor.execute('PRAGMA table_info(Facilities);').fetchall()\n",
    "members = cursor.execute(query3).fetchall()\n",
    "members_columns = cursor.execute('PRAGMA table_info(Members);').fetchall()"
   ]
  },
  {
   "cell_type": "code",
   "execution_count": 6,
   "id": "6fa0f978",
   "metadata": {},
   "outputs": [],
   "source": [
    "booking_columns = [num[1] for num in booking_columns]\n",
    "facilities_columns = [num[1] for num in facilities_columns]\n",
    "members_columns = [num[1] for num in members_columns]"
   ]
  },
  {
   "cell_type": "code",
   "execution_count": 7,
   "id": "9a128665",
   "metadata": {},
   "outputs": [],
   "source": [
    "bookings_df = pd.DataFrame(bookings, index=range(len(bookings)), columns=booking_columns)\n",
    "facilities_df = pd.DataFrame(facilities, index=range(len(facilities)), columns=facilities_columns)\n",
    "members_df = pd.DataFrame(members, index=range(len(members)), columns=members_columns)"
   ]
  },
  {
   "cell_type": "code",
   "execution_count": 8,
   "id": "644ef5f4",
   "metadata": {},
   "outputs": [
    {
     "data": {
      "text/html": [
       "<div>\n",
       "<style scoped>\n",
       "    .dataframe tbody tr th:only-of-type {\n",
       "        vertical-align: middle;\n",
       "    }\n",
       "\n",
       "    .dataframe tbody tr th {\n",
       "        vertical-align: top;\n",
       "    }\n",
       "\n",
       "    .dataframe thead th {\n",
       "        text-align: right;\n",
       "    }\n",
       "</style>\n",
       "<table border=\"1\" class=\"dataframe\">\n",
       "  <thead>\n",
       "    <tr style=\"text-align: right;\">\n",
       "      <th></th>\n",
       "      <th>bookid</th>\n",
       "      <th>facid</th>\n",
       "      <th>memid</th>\n",
       "      <th>starttime</th>\n",
       "      <th>slots</th>\n",
       "      <th>name</th>\n",
       "      <th>membercost</th>\n",
       "      <th>guestcost</th>\n",
       "      <th>initialoutlay</th>\n",
       "      <th>monthlymaintenance</th>\n",
       "    </tr>\n",
       "  </thead>\n",
       "  <tbody>\n",
       "    <tr>\n",
       "      <th>0</th>\n",
       "      <td>0</td>\n",
       "      <td>3</td>\n",
       "      <td>1</td>\n",
       "      <td>2012-07-03 11:00:00</td>\n",
       "      <td>2</td>\n",
       "      <td>Table Tennis</td>\n",
       "      <td>0.0</td>\n",
       "      <td>5.0</td>\n",
       "      <td>320</td>\n",
       "      <td>10</td>\n",
       "    </tr>\n",
       "    <tr>\n",
       "      <th>1</th>\n",
       "      <td>19</td>\n",
       "      <td>3</td>\n",
       "      <td>3</td>\n",
       "      <td>2012-07-05 09:00:00</td>\n",
       "      <td>2</td>\n",
       "      <td>Table Tennis</td>\n",
       "      <td>0.0</td>\n",
       "      <td>5.0</td>\n",
       "      <td>320</td>\n",
       "      <td>10</td>\n",
       "    </tr>\n",
       "    <tr>\n",
       "      <th>2</th>\n",
       "      <td>20</td>\n",
       "      <td>3</td>\n",
       "      <td>1</td>\n",
       "      <td>2012-07-05 19:00:00</td>\n",
       "      <td>2</td>\n",
       "      <td>Table Tennis</td>\n",
       "      <td>0.0</td>\n",
       "      <td>5.0</td>\n",
       "      <td>320</td>\n",
       "      <td>10</td>\n",
       "    </tr>\n",
       "    <tr>\n",
       "      <th>3</th>\n",
       "      <td>30</td>\n",
       "      <td>3</td>\n",
       "      <td>1</td>\n",
       "      <td>2012-07-06 11:00:00</td>\n",
       "      <td>2</td>\n",
       "      <td>Table Tennis</td>\n",
       "      <td>0.0</td>\n",
       "      <td>5.0</td>\n",
       "      <td>320</td>\n",
       "      <td>10</td>\n",
       "    </tr>\n",
       "    <tr>\n",
       "      <th>4</th>\n",
       "      <td>43</td>\n",
       "      <td>3</td>\n",
       "      <td>2</td>\n",
       "      <td>2012-07-07 12:30:00</td>\n",
       "      <td>2</td>\n",
       "      <td>Table Tennis</td>\n",
       "      <td>0.0</td>\n",
       "      <td>5.0</td>\n",
       "      <td>320</td>\n",
       "      <td>10</td>\n",
       "    </tr>\n",
       "  </tbody>\n",
       "</table>\n",
       "</div>"
      ],
      "text/plain": [
       "   bookid  facid  memid            starttime  slots          name  membercost  \\\n",
       "0       0      3      1  2012-07-03 11:00:00      2  Table Tennis         0.0   \n",
       "1      19      3      3  2012-07-05 09:00:00      2  Table Tennis         0.0   \n",
       "2      20      3      1  2012-07-05 19:00:00      2  Table Tennis         0.0   \n",
       "3      30      3      1  2012-07-06 11:00:00      2  Table Tennis         0.0   \n",
       "4      43      3      2  2012-07-07 12:30:00      2  Table Tennis         0.0   \n",
       "\n",
       "   guestcost  initialoutlay  monthlymaintenance  \n",
       "0        5.0            320                  10  \n",
       "1        5.0            320                  10  \n",
       "2        5.0            320                  10  \n",
       "3        5.0            320                  10  \n",
       "4        5.0            320                  10  "
      ]
     },
     "execution_count": 8,
     "metadata": {},
     "output_type": "execute_result"
    }
   ],
   "source": [
    "bookings_facilities_df = bookings_df.merge(facilities_df, how='outer', on='facid', suffixes=['_book', '_fac'])\n",
    "bookings_facilities_df.head()"
   ]
  },
  {
   "cell_type": "code",
   "execution_count": 9,
   "id": "e8351ee2",
   "metadata": {},
   "outputs": [],
   "source": [
    "revenue = []\n",
    "for i, memid in enumerate(bookings_facilities_df['memid']):\n",
    "    if memid != 0:\n",
    "        revenue.append(bookings_facilities_df['slots'].iloc[i] * bookings_facilities_df['membercost'].iloc[i])\n",
    "    if memid == 0:\n",
    "        revenue.append(bookings_facilities_df['slots'].iloc[i] * bookings_facilities_df['guestcost'].iloc[i])\n",
    "        \n",
    "bookings_facilities_df['revenue'] = revenue\n",
    "del revenue"
   ]
  },
  {
   "cell_type": "code",
   "execution_count": 10,
   "id": "2b3cf2b3",
   "metadata": {},
   "outputs": [],
   "source": [
    "total_revenue = bookings_facilities_df[['facid', 'name', 'revenue']].groupby(['facid', 'name'])['revenue'].sum()"
   ]
  },
  {
   "cell_type": "code",
   "execution_count": 11,
   "id": "90e0244e",
   "metadata": {},
   "outputs": [
    {
     "name": "stdout",
     "output_type": "stream",
     "text": [
      "facid  name         \n",
      "8      Pool Table       270.0\n",
      "7      Snooker Table    240.0\n",
      "3      Table Tennis     180.0\n",
      "Name: revenue, dtype: float64\n"
     ]
    }
   ],
   "source": [
    "final_list = total_revenue.loc[total_revenue < 1000].sort_values(ascending=False)\n",
    "print(final_list)"
   ]
  },
  {
   "cell_type": "markdown",
   "id": "6de25fa4",
   "metadata": {},
   "source": [
    "Q11: Produce a report of members and who recommended them in alphabetic surname,firstname order"
   ]
  },
  {
   "cell_type": "code",
   "execution_count": 12,
   "id": "1c1b9dbd",
   "metadata": {},
   "outputs": [],
   "source": [
    "members_df['recommendedby'].replace({'':np.nan}, inplace=True)\n",
    "members_df['recommendedby'] = members_df['recommendedby'].astype(float)"
   ]
  },
  {
   "cell_type": "code",
   "execution_count": 21,
   "id": "7805d08e",
   "metadata": {},
   "outputs": [],
   "source": [
    "recommend_df = members_df.loc[:, ['memid', 'surname', 'firstname', 'recommendedby']].merge(members_df.loc[:, ['memid', 'surname', 'firstname', 'recommendedby']],\n",
    "                                                                                           left_on='memid', right_on='recommendedby', \n",
    "                                                                                           suffixes=['_origianl', '_recommended'], how='left')"
   ]
  },
  {
   "cell_type": "code",
   "execution_count": 25,
   "id": "d7931a40",
   "metadata": {},
   "outputs": [
    {
     "data": {
      "text/html": [
       "<div>\n",
       "<style scoped>\n",
       "    .dataframe tbody tr th:only-of-type {\n",
       "        vertical-align: middle;\n",
       "    }\n",
       "\n",
       "    .dataframe tbody tr th {\n",
       "        vertical-align: top;\n",
       "    }\n",
       "\n",
       "    .dataframe thead th {\n",
       "        text-align: right;\n",
       "    }\n",
       "</style>\n",
       "<table border=\"1\" class=\"dataframe\">\n",
       "  <thead>\n",
       "    <tr style=\"text-align: right;\">\n",
       "      <th></th>\n",
       "      <th>memid_origianl</th>\n",
       "      <th>surname_origianl</th>\n",
       "      <th>firstname_origianl</th>\n",
       "      <th>recommendedby_origianl</th>\n",
       "      <th>memid_recommended</th>\n",
       "      <th>surname_recommended</th>\n",
       "      <th>firstname_recommended</th>\n",
       "      <th>recommendedby_recommended</th>\n",
       "    </tr>\n",
       "  </thead>\n",
       "  <tbody>\n",
       "    <tr>\n",
       "      <th>17</th>\n",
       "      <td>9</td>\n",
       "      <td>Stibbons</td>\n",
       "      <td>Ponder</td>\n",
       "      <td>6.0</td>\n",
       "      <td>15.0</td>\n",
       "      <td>Bader</td>\n",
       "      <td>Florence</td>\n",
       "      <td>9.0</td>\n",
       "    </tr>\n",
       "    <tr>\n",
       "      <th>16</th>\n",
       "      <td>9</td>\n",
       "      <td>Stibbons</td>\n",
       "      <td>Ponder</td>\n",
       "      <td>6.0</td>\n",
       "      <td>12.0</td>\n",
       "      <td>Baker</td>\n",
       "      <td>Anne</td>\n",
       "      <td>9.0</td>\n",
       "    </tr>\n",
       "    <tr>\n",
       "      <th>21</th>\n",
       "      <td>13</td>\n",
       "      <td>Farrell</td>\n",
       "      <td>Jemima</td>\n",
       "      <td>NaN</td>\n",
       "      <td>16.0</td>\n",
       "      <td>Baker</td>\n",
       "      <td>Timothy</td>\n",
       "      <td>13.0</td>\n",
       "    </tr>\n",
       "    <tr>\n",
       "      <th>9</th>\n",
       "      <td>3</td>\n",
       "      <td>Rownam</td>\n",
       "      <td>Tim</td>\n",
       "      <td>NaN</td>\n",
       "      <td>8.0</td>\n",
       "      <td>Boothe</td>\n",
       "      <td>Tim</td>\n",
       "      <td>3.0</td>\n",
       "    </tr>\n",
       "    <tr>\n",
       "      <th>2</th>\n",
       "      <td>1</td>\n",
       "      <td>Smith</td>\n",
       "      <td>Darren</td>\n",
       "      <td>NaN</td>\n",
       "      <td>5.0</td>\n",
       "      <td>Butters</td>\n",
       "      <td>Gerald</td>\n",
       "      <td>1.0</td>\n",
       "    </tr>\n",
       "  </tbody>\n",
       "</table>\n",
       "</div>"
      ],
      "text/plain": [
       "    memid_origianl surname_origianl firstname_origianl  \\\n",
       "17               9         Stibbons             Ponder   \n",
       "16               9         Stibbons             Ponder   \n",
       "21              13          Farrell             Jemima   \n",
       "9                3           Rownam                Tim   \n",
       "2                1            Smith             Darren   \n",
       "\n",
       "    recommendedby_origianl  memid_recommended surname_recommended  \\\n",
       "17                     6.0               15.0               Bader   \n",
       "16                     6.0               12.0               Baker   \n",
       "21                     NaN               16.0               Baker   \n",
       "9                      NaN                8.0              Boothe   \n",
       "2                      NaN                5.0             Butters   \n",
       "\n",
       "   firstname_recommended  recommendedby_recommended  \n",
       "17              Florence                        9.0  \n",
       "16                  Anne                        9.0  \n",
       "21               Timothy                       13.0  \n",
       "9                    Tim                        3.0  \n",
       "2                 Gerald                        1.0  "
      ]
     },
     "execution_count": 25,
     "metadata": {},
     "output_type": "execute_result"
    }
   ],
   "source": [
    "recommend_df.sort_values(['surname_recommended', 'firstname_recommended']).head()"
   ]
  },
  {
   "cell_type": "markdown",
   "id": "6784cab4",
   "metadata": {},
   "source": [
    "Q12: Find the facilities with their usage by member, but not guests."
   ]
  },
  {
   "cell_type": "code",
   "execution_count": 31,
   "id": "2146ccce",
   "metadata": {},
   "outputs": [
    {
     "data": {
      "text/html": [
       "<div>\n",
       "<style scoped>\n",
       "    .dataframe tbody tr th:only-of-type {\n",
       "        vertical-align: middle;\n",
       "    }\n",
       "\n",
       "    .dataframe tbody tr th {\n",
       "        vertical-align: top;\n",
       "    }\n",
       "\n",
       "    .dataframe thead th {\n",
       "        text-align: right;\n",
       "    }\n",
       "</style>\n",
       "<table border=\"1\" class=\"dataframe\">\n",
       "  <thead>\n",
       "    <tr style=\"text-align: right;\">\n",
       "      <th></th>\n",
       "      <th>memid</th>\n",
       "      <th>name</th>\n",
       "      <th>slots</th>\n",
       "    </tr>\n",
       "  </thead>\n",
       "  <tbody>\n",
       "    <tr>\n",
       "      <th>0</th>\n",
       "      <td>1</td>\n",
       "      <td>Table Tennis</td>\n",
       "      <td>2</td>\n",
       "    </tr>\n",
       "    <tr>\n",
       "      <th>1</th>\n",
       "      <td>3</td>\n",
       "      <td>Table Tennis</td>\n",
       "      <td>2</td>\n",
       "    </tr>\n",
       "    <tr>\n",
       "      <th>2</th>\n",
       "      <td>1</td>\n",
       "      <td>Table Tennis</td>\n",
       "      <td>2</td>\n",
       "    </tr>\n",
       "    <tr>\n",
       "      <th>3</th>\n",
       "      <td>1</td>\n",
       "      <td>Table Tennis</td>\n",
       "      <td>2</td>\n",
       "    </tr>\n",
       "    <tr>\n",
       "      <th>4</th>\n",
       "      <td>2</td>\n",
       "      <td>Table Tennis</td>\n",
       "      <td>2</td>\n",
       "    </tr>\n",
       "    <tr>\n",
       "      <th>...</th>\n",
       "      <td>...</td>\n",
       "      <td>...</td>\n",
       "      <td>...</td>\n",
       "    </tr>\n",
       "    <tr>\n",
       "      <th>4016</th>\n",
       "      <td>7</td>\n",
       "      <td>Massage Room 2</td>\n",
       "      <td>2</td>\n",
       "    </tr>\n",
       "    <tr>\n",
       "      <th>4024</th>\n",
       "      <td>15</td>\n",
       "      <td>Massage Room 2</td>\n",
       "      <td>2</td>\n",
       "    </tr>\n",
       "    <tr>\n",
       "      <th>4028</th>\n",
       "      <td>14</td>\n",
       "      <td>Massage Room 2</td>\n",
       "      <td>2</td>\n",
       "    </tr>\n",
       "    <tr>\n",
       "      <th>4035</th>\n",
       "      <td>22</td>\n",
       "      <td>Massage Room 2</td>\n",
       "      <td>2</td>\n",
       "    </tr>\n",
       "    <tr>\n",
       "      <th>4038</th>\n",
       "      <td>11</td>\n",
       "      <td>Massage Room 2</td>\n",
       "      <td>2</td>\n",
       "    </tr>\n",
       "  </tbody>\n",
       "</table>\n",
       "<p>3160 rows × 3 columns</p>\n",
       "</div>"
      ],
      "text/plain": [
       "      memid            name  slots\n",
       "0         1    Table Tennis      2\n",
       "1         3    Table Tennis      2\n",
       "2         1    Table Tennis      2\n",
       "3         1    Table Tennis      2\n",
       "4         2    Table Tennis      2\n",
       "...     ...             ...    ...\n",
       "4016      7  Massage Room 2      2\n",
       "4024     15  Massage Room 2      2\n",
       "4028     14  Massage Room 2      2\n",
       "4035     22  Massage Room 2      2\n",
       "4038     11  Massage Room 2      2\n",
       "\n",
       "[3160 rows x 3 columns]"
      ]
     },
     "execution_count": 31,
     "metadata": {},
     "output_type": "execute_result"
    }
   ],
   "source": [
    "usage_df = bookings_facilities_df.loc[bookings_facilities_df['memid'] != 0, ['memid', 'name', 'slots']]\n",
    "usage_df"
   ]
  },
  {
   "cell_type": "code",
   "execution_count": 32,
   "id": "8d04c782",
   "metadata": {},
   "outputs": [
    {
     "data": {
      "text/plain": [
       "name\n",
       "Badminton Court    1086\n",
       "Massage Room 1      884\n",
       "Massage Room 2       54\n",
       "Pool Table          856\n",
       "Snooker Table       860\n",
       "Squash Court        418\n",
       "Table Tennis        794\n",
       "Tennis Court 1      957\n",
       "Tennis Court 2      882\n",
       "Name: slots, dtype: int64"
      ]
     },
     "execution_count": 32,
     "metadata": {},
     "output_type": "execute_result"
    }
   ],
   "source": [
    "usage_df.groupby('name')['slots'].sum()"
   ]
  },
  {
   "cell_type": "markdown",
   "id": "0d79ff76",
   "metadata": {},
   "source": [
    "Q13: Find the facilities usage by month, but not guests"
   ]
  },
  {
   "cell_type": "code",
   "execution_count": 38,
   "id": "dc146aa9",
   "metadata": {},
   "outputs": [],
   "source": [
    "bookings_facilities_df.set_index('starttime', inplace=True)\n",
    "bookings_facilities_df.set_index(pd.to_datetime(bookings_facilities_df.index), inplace=True)"
   ]
  },
  {
   "cell_type": "code",
   "execution_count": 63,
   "id": "246b92d9",
   "metadata": {},
   "outputs": [
    {
     "data": {
      "text/plain": [
       "name             starttime \n",
       "Badminton Court  2012-07-31     51\n",
       "                 2012-08-31    132\n",
       "                 2012-09-30    161\n",
       "Massage Room 1   2012-07-31     77\n",
       "                 2012-08-31    153\n",
       "                 2012-09-30    191\n",
       "Massage Room 2   2012-07-31      4\n",
       "                 2012-08-31      9\n",
       "                 2012-09-30     14\n",
       "Pool Table       2012-07-31    103\n",
       "                 2012-08-31    272\n",
       "                 2012-09-30    408\n",
       "Snooker Table    2012-07-31     68\n",
       "                 2012-08-31    154\n",
       "                 2012-09-30    199\n",
       "Squash Court     2012-07-31     23\n",
       "                 2012-08-31     85\n",
       "                 2012-09-30     87\n",
       "Table Tennis     2012-07-31     48\n",
       "                 2012-08-31    143\n",
       "                 2012-09-30    194\n",
       "Tennis Court 1   2012-07-31     65\n",
       "                 2012-08-31    111\n",
       "                 2012-09-30    132\n",
       "Tennis Court 2   2012-07-31     41\n",
       "                 2012-08-31    109\n",
       "                 2012-09-30    126\n",
       "Name: slots, dtype: int64"
      ]
     },
     "execution_count": 63,
     "metadata": {},
     "output_type": "execute_result"
    }
   ],
   "source": [
    "bookings_facilities_df.loc[bookings_facilities_df['memid'] != 0, ['slots', 'name']].groupby('name').resample('M')['slots'].count()"
   ]
  },
  {
   "cell_type": "code",
   "execution_count": null,
   "id": "fd766c2e",
   "metadata": {},
   "outputs": [],
   "source": []
  }
 ],
 "metadata": {
  "kernelspec": {
   "display_name": "Python 3 (ipykernel)",
   "language": "python",
   "name": "python3"
  },
  "language_info": {
   "codemirror_mode": {
    "name": "ipython",
    "version": 3
   },
   "file_extension": ".py",
   "mimetype": "text/x-python",
   "name": "python",
   "nbconvert_exporter": "python",
   "pygments_lexer": "ipython3",
   "version": "3.9.13"
  }
 },
 "nbformat": 4,
 "nbformat_minor": 5
}
