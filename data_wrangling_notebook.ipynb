{
 "cells": [
  {
   "cell_type": "code",
   "execution_count": 2,
   "id": "16f0f99c",
   "metadata": {},
   "outputs": [],
   "source": [
    "#Imports\n",
    "import pandas as pd\n",
    "import numpy as np\n",
    "import matplotlib.pyplot as plt\n",
    "import opendatasets as od"
   ]
  },
  {
   "cell_type": "code",
   "execution_count": 3,
   "id": "09e2b8c8",
   "metadata": {},
   "outputs": [
    {
     "name": "stdout",
     "output_type": "stream",
     "text": [
      "Skipping, found downloaded files in \".\\sp-500-stocks\" (use force=True to force download)\n"
     ]
    }
   ],
   "source": [
    "#This will download the dataset if you do not have it locally.\n",
    "#My dataset is from kaggle, and you'll need a Kaggle account to download.\n",
    "od.download('https://www.kaggle.com/datasets/andrewmvd/sp-500-stocks?select=sp500_stocks.csv')"
   ]
  },
  {
   "cell_type": "code",
   "execution_count": 4,
   "id": "7cee442f",
   "metadata": {},
   "outputs": [],
   "source": [
    "#Reading data in\n",
    "stocks_data = pd.read_csv('sp-500-stocks/sp500_stocks.csv')\n",
    "stocks_info = pd.read_csv('sp-500-stocks/sp500_companies.csv')"
   ]
  },
  {
   "cell_type": "code",
   "execution_count": 5,
   "id": "91efc4e1",
   "metadata": {},
   "outputs": [
    {
     "name": "stdout",
     "output_type": "stream",
     "text": [
      "               Date Symbol   Adj Close       Close        High         Low  \\\n",
      "0        2010-01-04    MMM   59.318886   83.019997   83.449997   82.669998   \n",
      "1        2010-01-05    MMM   58.947342   82.500000   83.230003   81.699997   \n",
      "2        2010-01-06    MMM   59.783295   83.669998   84.599998   83.510002   \n",
      "3        2010-01-07    MMM   59.826176   83.730003   83.760002   82.120003   \n",
      "4        2010-01-08    MMM   60.247749   84.320000   84.320000   83.300003   \n",
      "...             ...    ...         ...         ...         ...         ...   \n",
      "1644805  2022-12-21    ZTS  144.919998  144.919998  146.149994  142.779999   \n",
      "1644806  2022-12-22    ZTS  145.029999  145.029999  145.100006  141.850006   \n",
      "1644807  2022-12-23    ZTS  145.759995  145.759995  145.889999  143.539993   \n",
      "1644808  2022-12-27    ZTS  145.300003  145.300003  146.149994  143.570007   \n",
      "1644809  2022-12-28    ZTS  143.830002  143.830002  146.610001  143.779999   \n",
      "\n",
      "               Open     Volume  \n",
      "0         83.089996  3043700.0  \n",
      "1         82.800003  2847000.0  \n",
      "2         83.879997  5268500.0  \n",
      "3         83.320000  4470100.0  \n",
      "4         83.690002  3405800.0  \n",
      "...             ...        ...  \n",
      "1644805  143.220001  1647500.0  \n",
      "1644806  143.710007  1541800.0  \n",
      "1644807  144.509995  1017600.0  \n",
      "1644808  145.910004   957900.0  \n",
      "1644809  145.179993  1443200.0  \n",
      "\n",
      "[1644810 rows x 8 columns]\n",
      "    Exchange Symbol                        Shortname  \\\n",
      "0        NMS   AAPL                       Apple Inc.   \n",
      "1        NMS   MSFT            Microsoft Corporation   \n",
      "2        NMS  GOOGL                    Alphabet Inc.   \n",
      "3        NMS   GOOG                    Alphabet Inc.   \n",
      "4        NMS   AMZN                 Amazon.com, Inc.   \n",
      "..       ...    ...                              ...   \n",
      "489      NYQ    LNC     Lincoln National Corporation   \n",
      "490      NYQ    ALK           Alaska Air Group, Inc.   \n",
      "491      NYQ   LUMN         Lumen Technologies, Inc.   \n",
      "492      NYQ   NCLH  Norwegian Cruise Line Holdings    \n",
      "493      NYQ    VNO             Vornado Realty Trust   \n",
      "\n",
      "                                Longname                  Sector  \\\n",
      "0                             Apple Inc.              Technology   \n",
      "1                  Microsoft Corporation              Technology   \n",
      "2                          Alphabet Inc.  Communication Services   \n",
      "3                          Alphabet Inc.  Communication Services   \n",
      "4                       Amazon.com, Inc.       Consumer Cyclical   \n",
      "..                                   ...                     ...   \n",
      "489         Lincoln National Corporation      Financial Services   \n",
      "490               Alaska Air Group, Inc.             Industrials   \n",
      "491             Lumen Technologies, Inc.  Communication Services   \n",
      "492  Norwegian Cruise Line Holdings Ltd.       Consumer Cyclical   \n",
      "493                 Vornado Realty Trust             Real Estate   \n",
      "\n",
      "                           Industry  Currentprice      Marketcap  \\\n",
      "0              Consumer Electronics        126.04  2005057011712   \n",
      "1           Software—Infrastructure        234.53  1760846544896   \n",
      "2    Internet Content & Information         86.02  1116763193344   \n",
      "3    Internet Content & Information         86.46  1115221655552   \n",
      "4                   Internet Retail         81.82   834703130624   \n",
      "..                              ...           ...            ...   \n",
      "489                  Insurance—Life         29.53     5336336896   \n",
      "490                        Airlines         41.30     5238409216   \n",
      "491                Telecom Services          5.09     5211600384   \n",
      "492                 Travel Services         12.14     5061068800   \n",
      "493                     REIT—Office         20.89     4004215808   \n",
      "\n",
      "           Ebitda  Revenuegrowth           City State        Country  \\\n",
      "0    1.305410e+11          0.081      Cupertino    CA  United States   \n",
      "1    9.798300e+10          0.124        Redmond    WA  United States   \n",
      "2    9.373300e+10          0.061  Mountain View    CA  United States   \n",
      "3    9.373300e+10          0.061  Mountain View    CA  United States   \n",
      "4    5.154900e+10          0.147        Seattle    WA  United States   \n",
      "..            ...            ...            ...   ...            ...   \n",
      "489  1.422000e+09          0.052         Radnor    PA  United States   \n",
      "490  1.092000e+09          0.448        Seattle    WA  United States   \n",
      "491  7.419000e+09         -0.063         Monroe    LA  United States   \n",
      "492 -1.684442e+09        270.791          Miami    FL  United States   \n",
      "493  8.506830e+08          0.168       New York    NY  United States   \n",
      "\n",
      "     Fulltimeemployees                                Longbusinesssummary  \\\n",
      "0             164000.0  Apple Inc. designs, manufactures, and markets ...   \n",
      "1             221000.0  Microsoft Corporation develops, licenses, and ...   \n",
      "2             186779.0  Alphabet Inc. provides various products and pl...   \n",
      "3             186779.0  Alphabet Inc. provides various products and pl...   \n",
      "4            1544000.0  Amazon.com, Inc. engages in the retail sale of...   \n",
      "..                 ...                                                ...   \n",
      "489            10848.0  Lincoln National Corporation, through its subs...   \n",
      "490            22354.0  Alaska Air Group, Inc., through its subsidiari...   \n",
      "491            35000.0  Lumen Technologies, Inc., a facilities-based t...   \n",
      "492            34700.0  Norwegian Cruise Line Holdings Ltd., together ...   \n",
      "493             3224.0  Vornado's portfolio is concentrated in the nat...   \n",
      "\n",
      "       Weight  \n",
      "0    0.059524  \n",
      "1    0.052274  \n",
      "2    0.033153  \n",
      "3    0.033107  \n",
      "4    0.024780  \n",
      "..        ...  \n",
      "489  0.000158  \n",
      "490  0.000156  \n",
      "491  0.000155  \n",
      "492  0.000150  \n",
      "493  0.000119  \n",
      "\n",
      "[494 rows x 16 columns]\n"
     ]
    }
   ],
   "source": [
    "print(stocks_data)\n",
    "print(stocks_info)"
   ]
  },
  {
   "cell_type": "markdown",
   "id": "72c4fef8",
   "metadata": {},
   "source": [
    "This dataset is two .csv files with different information, but I want all of the information in one dataframe, so I'll merge them right away."
   ]
  },
  {
   "cell_type": "code",
   "execution_count": 6,
   "id": "96856dc8",
   "metadata": {},
   "outputs": [],
   "source": [
    "#Merging tables\n",
    "data = stocks_data.merge(stocks_info, how='left', on='Symbol')"
   ]
  },
  {
   "cell_type": "code",
   "execution_count": 7,
   "id": "9212098a",
   "metadata": {},
   "outputs": [
    {
     "data": {
      "text/html": [
       "<div>\n",
       "<style scoped>\n",
       "    .dataframe tbody tr th:only-of-type {\n",
       "        vertical-align: middle;\n",
       "    }\n",
       "\n",
       "    .dataframe tbody tr th {\n",
       "        vertical-align: top;\n",
       "    }\n",
       "\n",
       "    .dataframe thead th {\n",
       "        text-align: right;\n",
       "    }\n",
       "</style>\n",
       "<table border=\"1\" class=\"dataframe\">\n",
       "  <thead>\n",
       "    <tr style=\"text-align: right;\">\n",
       "      <th></th>\n",
       "      <th>Date</th>\n",
       "      <th>Symbol</th>\n",
       "      <th>Adj Close</th>\n",
       "      <th>Close</th>\n",
       "      <th>High</th>\n",
       "      <th>Low</th>\n",
       "      <th>Open</th>\n",
       "      <th>Volume</th>\n",
       "      <th>Exchange</th>\n",
       "      <th>Shortname</th>\n",
       "      <th>...</th>\n",
       "      <th>Currentprice</th>\n",
       "      <th>Marketcap</th>\n",
       "      <th>Ebitda</th>\n",
       "      <th>Revenuegrowth</th>\n",
       "      <th>City</th>\n",
       "      <th>State</th>\n",
       "      <th>Country</th>\n",
       "      <th>Fulltimeemployees</th>\n",
       "      <th>Longbusinesssummary</th>\n",
       "      <th>Weight</th>\n",
       "    </tr>\n",
       "  </thead>\n",
       "  <tbody>\n",
       "    <tr>\n",
       "      <th>0</th>\n",
       "      <td>2010-01-04</td>\n",
       "      <td>MMM</td>\n",
       "      <td>59.318886</td>\n",
       "      <td>83.019997</td>\n",
       "      <td>83.449997</td>\n",
       "      <td>82.669998</td>\n",
       "      <td>83.089996</td>\n",
       "      <td>3043700.0</td>\n",
       "      <td>NYQ</td>\n",
       "      <td>3M Company</td>\n",
       "      <td>...</td>\n",
       "      <td>118.29</td>\n",
       "      <td>6.538397e+10</td>\n",
       "      <td>6.969000e+09</td>\n",
       "      <td>-0.036</td>\n",
       "      <td>Saint Paul</td>\n",
       "      <td>MN</td>\n",
       "      <td>United States</td>\n",
       "      <td>95000.0</td>\n",
       "      <td>3M Company operates as a diversified technolog...</td>\n",
       "      <td>0.001941</td>\n",
       "    </tr>\n",
       "    <tr>\n",
       "      <th>1</th>\n",
       "      <td>2010-01-05</td>\n",
       "      <td>MMM</td>\n",
       "      <td>58.947342</td>\n",
       "      <td>82.500000</td>\n",
       "      <td>83.230003</td>\n",
       "      <td>81.699997</td>\n",
       "      <td>82.800003</td>\n",
       "      <td>2847000.0</td>\n",
       "      <td>NYQ</td>\n",
       "      <td>3M Company</td>\n",
       "      <td>...</td>\n",
       "      <td>118.29</td>\n",
       "      <td>6.538397e+10</td>\n",
       "      <td>6.969000e+09</td>\n",
       "      <td>-0.036</td>\n",
       "      <td>Saint Paul</td>\n",
       "      <td>MN</td>\n",
       "      <td>United States</td>\n",
       "      <td>95000.0</td>\n",
       "      <td>3M Company operates as a diversified technolog...</td>\n",
       "      <td>0.001941</td>\n",
       "    </tr>\n",
       "    <tr>\n",
       "      <th>2</th>\n",
       "      <td>2010-01-06</td>\n",
       "      <td>MMM</td>\n",
       "      <td>59.783295</td>\n",
       "      <td>83.669998</td>\n",
       "      <td>84.599998</td>\n",
       "      <td>83.510002</td>\n",
       "      <td>83.879997</td>\n",
       "      <td>5268500.0</td>\n",
       "      <td>NYQ</td>\n",
       "      <td>3M Company</td>\n",
       "      <td>...</td>\n",
       "      <td>118.29</td>\n",
       "      <td>6.538397e+10</td>\n",
       "      <td>6.969000e+09</td>\n",
       "      <td>-0.036</td>\n",
       "      <td>Saint Paul</td>\n",
       "      <td>MN</td>\n",
       "      <td>United States</td>\n",
       "      <td>95000.0</td>\n",
       "      <td>3M Company operates as a diversified technolog...</td>\n",
       "      <td>0.001941</td>\n",
       "    </tr>\n",
       "    <tr>\n",
       "      <th>3</th>\n",
       "      <td>2010-01-07</td>\n",
       "      <td>MMM</td>\n",
       "      <td>59.826176</td>\n",
       "      <td>83.730003</td>\n",
       "      <td>83.760002</td>\n",
       "      <td>82.120003</td>\n",
       "      <td>83.320000</td>\n",
       "      <td>4470100.0</td>\n",
       "      <td>NYQ</td>\n",
       "      <td>3M Company</td>\n",
       "      <td>...</td>\n",
       "      <td>118.29</td>\n",
       "      <td>6.538397e+10</td>\n",
       "      <td>6.969000e+09</td>\n",
       "      <td>-0.036</td>\n",
       "      <td>Saint Paul</td>\n",
       "      <td>MN</td>\n",
       "      <td>United States</td>\n",
       "      <td>95000.0</td>\n",
       "      <td>3M Company operates as a diversified technolog...</td>\n",
       "      <td>0.001941</td>\n",
       "    </tr>\n",
       "    <tr>\n",
       "      <th>4</th>\n",
       "      <td>2010-01-08</td>\n",
       "      <td>MMM</td>\n",
       "      <td>60.247749</td>\n",
       "      <td>84.320000</td>\n",
       "      <td>84.320000</td>\n",
       "      <td>83.300003</td>\n",
       "      <td>83.690002</td>\n",
       "      <td>3405800.0</td>\n",
       "      <td>NYQ</td>\n",
       "      <td>3M Company</td>\n",
       "      <td>...</td>\n",
       "      <td>118.29</td>\n",
       "      <td>6.538397e+10</td>\n",
       "      <td>6.969000e+09</td>\n",
       "      <td>-0.036</td>\n",
       "      <td>Saint Paul</td>\n",
       "      <td>MN</td>\n",
       "      <td>United States</td>\n",
       "      <td>95000.0</td>\n",
       "      <td>3M Company operates as a diversified technolog...</td>\n",
       "      <td>0.001941</td>\n",
       "    </tr>\n",
       "  </tbody>\n",
       "</table>\n",
       "<p>5 rows × 23 columns</p>\n",
       "</div>"
      ],
      "text/plain": [
       "         Date Symbol  Adj Close      Close       High        Low       Open  \\\n",
       "0  2010-01-04    MMM  59.318886  83.019997  83.449997  82.669998  83.089996   \n",
       "1  2010-01-05    MMM  58.947342  82.500000  83.230003  81.699997  82.800003   \n",
       "2  2010-01-06    MMM  59.783295  83.669998  84.599998  83.510002  83.879997   \n",
       "3  2010-01-07    MMM  59.826176  83.730003  83.760002  82.120003  83.320000   \n",
       "4  2010-01-08    MMM  60.247749  84.320000  84.320000  83.300003  83.690002   \n",
       "\n",
       "      Volume Exchange   Shortname  ... Currentprice     Marketcap  \\\n",
       "0  3043700.0      NYQ  3M Company  ...       118.29  6.538397e+10   \n",
       "1  2847000.0      NYQ  3M Company  ...       118.29  6.538397e+10   \n",
       "2  5268500.0      NYQ  3M Company  ...       118.29  6.538397e+10   \n",
       "3  4470100.0      NYQ  3M Company  ...       118.29  6.538397e+10   \n",
       "4  3405800.0      NYQ  3M Company  ...       118.29  6.538397e+10   \n",
       "\n",
       "         Ebitda  Revenuegrowth        City  State        Country  \\\n",
       "0  6.969000e+09         -0.036  Saint Paul     MN  United States   \n",
       "1  6.969000e+09         -0.036  Saint Paul     MN  United States   \n",
       "2  6.969000e+09         -0.036  Saint Paul     MN  United States   \n",
       "3  6.969000e+09         -0.036  Saint Paul     MN  United States   \n",
       "4  6.969000e+09         -0.036  Saint Paul     MN  United States   \n",
       "\n",
       "  Fulltimeemployees                                Longbusinesssummary  \\\n",
       "0           95000.0  3M Company operates as a diversified technolog...   \n",
       "1           95000.0  3M Company operates as a diversified technolog...   \n",
       "2           95000.0  3M Company operates as a diversified technolog...   \n",
       "3           95000.0  3M Company operates as a diversified technolog...   \n",
       "4           95000.0  3M Company operates as a diversified technolog...   \n",
       "\n",
       "     Weight  \n",
       "0  0.001941  \n",
       "1  0.001941  \n",
       "2  0.001941  \n",
       "3  0.001941  \n",
       "4  0.001941  \n",
       "\n",
       "[5 rows x 23 columns]"
      ]
     },
     "execution_count": 7,
     "metadata": {},
     "output_type": "execute_result"
    }
   ],
   "source": [
    "data.head()"
   ]
  },
  {
   "cell_type": "code",
   "execution_count": 8,
   "id": "15b253ff",
   "metadata": {},
   "outputs": [
    {
     "name": "stdout",
     "output_type": "stream",
     "text": [
      "Index(['Date', 'Symbol', 'Adj Close', 'Close', 'High', 'Low', 'Open', 'Volume',\n",
      "       'Exchange', 'Shortname', 'Longname', 'Sector', 'Industry',\n",
      "       'Currentprice', 'Marketcap', 'Ebitda', 'Revenuegrowth', 'City', 'State',\n",
      "       'Country', 'Fulltimeemployees', 'Longbusinesssummary', 'Weight'],\n",
      "      dtype='object')\n",
      "['NYQ' 'NMS' 'BTS' nan 'NGM']\n",
      "['Industrials' 'Healthcare' 'Technology' 'Communication Services'\n",
      " 'Consumer Defensive' 'Consumer Cyclical' 'Utilities' 'Financial Services'\n",
      " 'Basic Materials' 'Real Estate' 'Energy' nan]\n",
      "['Conglomerates' 'Specialty Industrial Machinery' 'Medical Devices'\n",
      " 'Drug Manufacturers—General' 'Information Technology Services'\n",
      " 'Electronic Gaming & Multimedia' 'Farm Products'\n",
      " 'Software—Infrastructure' 'Staffing & Employment Services'\n",
      " 'Specialty Retail' 'Utilities—Diversified' 'Insurance—Life'\n",
      " 'Diagnostics & Research' 'Specialty Chemicals' 'Airlines' 'REIT—Office'\n",
      " 'Security & Protection Services' 'Utilities—Regulated Electric'\n",
      " 'Insurance—Property & Casualty' 'Internet Content & Information'\n",
      " 'Tobacco' 'Internet Retail' 'Packaging & Containers' 'Semiconductors'\n",
      " 'Credit Services' 'Insurance—Diversified' 'REIT—Specialty'\n",
      " 'Utilities—Regulated Water' 'Asset Management' 'Medical Distribution'\n",
      " 'Electronic Components' 'Software—Application' 'Insurance Brokers'\n",
      " 'Oil & Gas E&P' 'Consumer Electronics'\n",
      " 'Semiconductor Equipment & Materials' 'Auto Parts' 'Computer Hardware'\n",
      " 'Insurance—Specialty' 'Telecom Services' 'Utilities—Regulated Gas'\n",
      " 'REIT—Residential' 'Business Equipment & Supplies'\n",
      " 'Oil & Gas Equipment & Services' 'Banks—Diversified'\n",
      " 'Medical Instruments & Supplies' 'Biotechnology' 'Aerospace & Defense'\n",
      " 'Travel Services' 'Beverages—Wineries & Distilleries'\n",
      " 'Integrated Freight & Logistics' 'Resorts & Casinos' 'Packaged Foods'\n",
      " 'Auto & Truck Dealerships' 'Building Products & Equipment'\n",
      " 'Drug Manufacturers—Specialty & Generic'\n",
      " 'Farm & Heavy Construction Machinery' 'Financial Data & Stock Exchanges'\n",
      " 'Real Estate Services' 'Chemicals' 'Healthcare Plans'\n",
      " 'Agricultural Inputs' 'Capital Markets' 'Oil & Gas Integrated'\n",
      " 'Restaurants' 'Household & Personal Products'\n",
      " 'Specialty Business Services' 'Communication Equipment' 'Banks—Regional'\n",
      " 'Beverages—Non-Alcoholic' nan 'Discount Stores' 'Railroads'\n",
      " 'Residential Construction' 'Medical Care Facilities' 'Entertainment'\n",
      " 'Solar' 'Consulting Services' 'Insurance—Reinsurance' 'REIT—Industrial'\n",
      " 'Industrial Distribution' 'REIT—Retail' 'Auto Manufacturers'\n",
      " 'Scientific & Technical Instruments' 'Copper' 'Leisure'\n",
      " 'REIT—Healthcare Facilities' 'Confectioners' 'Lodging'\n",
      " 'Home Improvement Retail' 'REIT—Hotel & Motel' 'Advertising Agencies'\n",
      " 'Engineering & Construction' 'Oil & Gas Midstream' 'Grocery Stores'\n",
      " 'Oil & Gas Refining & Marketing' 'Building Materials'\n",
      " 'Furnishings, Fixtures & Appliances' 'Beverages—Brewers' 'Gold'\n",
      " 'Footwear & Accessories' 'Utilities—Independent Power Producers' 'Steel'\n",
      " 'Trucking' 'Apparel Manufacturing' 'Waste Management' 'Personal Services'\n",
      " 'Apparel Retail' 'Tools & Accessories' 'Food Distribution' 'Luxury Goods'\n",
      " 'Rental & Leasing Services' 'REIT—Diversified' 'Pharmaceutical Retailers']\n",
      "['MMM' 'AOS' 'ABT' 'ABBV' 'ACN' 'ATVI' 'ADM' 'ADBE' 'ADP' 'AAP' 'AES'\n",
      " 'AFL' 'A' 'APD' 'AKAM' 'ALK' 'ALB' 'ARE' 'ALGN' 'ALLE' 'LNT' 'ALL'\n",
      " 'GOOGL' 'GOOG' 'MO' 'AMZN' 'AMCR' 'AMD' 'AEE' 'AAL' 'AEP' 'AXP' 'AIG'\n",
      " 'AMT' 'AWK' 'AMP' 'ABC' 'AME' 'AMGN' 'APH' 'ADI' 'ANSS' 'AON' 'APA'\n",
      " 'AAPL' 'AMAT' 'APTV' 'ACGL' 'ANET' 'AJG' 'AIZ' 'T' 'ATO' 'ADSK' 'AZO'\n",
      " 'AVB' 'AVY' 'BKR' 'BALL' 'BAC' 'BBWI' 'BAX' 'BDX' 'WRB' 'BRK-B' 'BBY'\n",
      " 'BIO' 'TECH' 'BIIB' 'BLK' 'BK' 'BA' 'BKNG' 'BWA' 'BXP' 'BSX' 'BMY' 'AVGO'\n",
      " 'BR' 'BRO' 'BF-B' 'CHRW' 'CDNS' 'CZR' 'CPT' 'CPB' 'COF' 'CAH' 'KMX' 'CCL'\n",
      " 'CARR' 'CTLT' 'CAT' 'CBOE' 'CBRE' 'CDW' 'CE' 'CNC' 'CNP' 'CDAY' 'CF'\n",
      " 'CRL' 'SCHW' 'CHTR' 'CVX' 'CMG' 'CB' 'CHD' 'CI' 'CINF' 'CTAS' 'CSCO' 'C'\n",
      " 'CFG' 'CLX' 'CME' 'CMS' 'KO' 'CTSH' 'CL' 'CMCSA' 'CMA' 'CAG' 'COP' 'ED'\n",
      " 'STZ' 'CEG' 'COO' 'CPRT' 'GLW' 'CTVA' 'CSGP' 'COST' 'CTRA' 'CCI' 'CSX'\n",
      " 'CMI' 'CVS' 'DHI' 'DHR' 'DRI' 'DVA' 'DE' 'DAL' 'XRAY' 'DVN' 'DXCM' 'FANG'\n",
      " 'DLR' 'DFS' 'DISH' 'DIS' 'DG' 'DLTR' 'D' 'DPZ' 'DOV' 'DOW' 'DTE' 'DUK'\n",
      " 'DD' 'DXC' 'EMN' 'ETN' 'EBAY' 'ECL' 'EIX' 'EW' 'EA' 'ELV' 'LLY' 'EMR'\n",
      " 'ENPH' 'ETR' 'EOG' 'EPAM' 'EQT' 'EFX' 'EQIX' 'EQR' 'ESS' 'EL' 'ETSY' 'RE'\n",
      " 'EVRG' 'ES' 'EXC' 'EXPE' 'EXPD' 'EXR' 'XOM' 'FFIV' 'FDS' 'FAST' 'FRT'\n",
      " 'FDX' 'FITB' 'FRC' 'FSLR' 'FE' 'FIS' 'FISV' 'FLT' 'FMC' 'F' 'FTNT' 'FTV'\n",
      " 'FOXA' 'FOX' 'BEN' 'FCX' 'GRMN' 'IT' 'GEN' 'GNRC' 'GD' 'GE' 'GIS' 'GM'\n",
      " 'GPC' 'GILD' 'GL' 'GPN' 'GS' 'HAL' 'HIG' 'HAS' 'HCA' 'PEAK' 'HSIC' 'HSY'\n",
      " 'HES' 'HPE' 'HLT' 'HOLX' 'HD' 'HON' 'HRL' 'HST' 'HWM' 'HPQ' 'HUM' 'HBAN'\n",
      " 'HII' 'IBM' 'IEX' 'IDXX' 'ITW' 'ILMN' 'INCY' 'IR' 'INTC' 'ICE' 'IP' 'IPG'\n",
      " 'IFF' 'INTU' 'ISRG' 'IVZ' 'INVH' 'IQV' 'IRM' 'JBHT' 'JKHY' 'J' 'JNJ'\n",
      " 'JCI' 'JPM' 'JNPR' 'K' 'KDP' 'KEY' 'KEYS' 'KMB' 'KIM' 'KMI' 'KLAC' 'KHC'\n",
      " 'KR' 'LHX' 'LH' 'LRCX' 'LW' 'LVS' 'LDOS' 'LEN' 'LNC' 'LIN' 'LYV' 'LKQ'\n",
      " 'LMT' 'L' 'LOW' 'LUMN' 'LYB' 'MTB' 'MRO' 'MPC' 'MKTX' 'MAR' 'MMC' 'MLM'\n",
      " 'MAS' 'MA' 'MTCH' 'MKC' 'MCD' 'MCK' 'MDT' 'MRK' 'META' 'MET' 'MTD' 'MGM'\n",
      " 'MCHP' 'MU' 'MSFT' 'MAA' 'MRNA' 'MHK' 'MOH' 'TAP' 'MDLZ' 'MPWR' 'MNST'\n",
      " 'MCO' 'MS' 'MOS' 'MSI' 'MSCI' 'NDAQ' 'NTAP' 'NFLX' 'NWL' 'NEM' 'NWSA'\n",
      " 'NWS' 'NEE' 'NKE' 'NI' 'NDSN' 'NSC' 'NTRS' 'NOC' 'NCLH' 'NRG' 'NUE'\n",
      " 'NVDA' 'NVR' 'NXPI' 'ORLY' 'OXY' 'ODFL' 'OMC' 'ON' 'OKE' 'ORCL' 'OGN'\n",
      " 'OTIS' 'PCAR' 'PKG' 'PARA' 'PH' 'PAYX' 'PAYC' 'PYPL' 'PNR' 'PEP' 'PKI'\n",
      " 'PFE' 'PCG' 'PM' 'PSX' 'PNW' 'PXD' 'PNC' 'POOL' 'PPG' 'PPL' 'PFG' 'PG'\n",
      " 'PGR' 'PLD' 'PRU' 'PEG' 'PTC' 'PSA' 'PHM' 'QRVO' 'PWR' 'QCOM' 'DGX' 'RL'\n",
      " 'RJF' 'RTX' 'O' 'REG' 'REGN' 'RF' 'RSG' 'RMD' 'RHI' 'ROK' 'ROL' 'ROP'\n",
      " 'ROST' 'RCL' 'SPGI' 'CRM' 'SBAC' 'SLB' 'STX' 'SEE' 'SRE' 'NOW' 'SHW'\n",
      " 'SBNY' 'SPG' 'SWKS' 'SJM' 'SNA' 'SEDG' 'SO' 'LUV' 'SWK' 'SBUX' 'STT'\n",
      " 'STLD' 'STE' 'SYK' 'SIVB' 'SYF' 'SNPS' 'SYY' 'TMUS' 'TROW' 'TTWO' 'TPR'\n",
      " 'TRGP' 'TGT' 'TEL' 'TDY' 'TFX' 'TER' 'TSLA' 'TXN' 'TXT' 'TMO' 'TJX'\n",
      " 'TSCO' 'TT' 'TDG' 'TRV' 'TRMB' 'TFC' 'TYL' 'TSN' 'USB' 'UDR' 'ULTA' 'UNP'\n",
      " 'UAL' 'UPS' 'URI' 'UNH' 'UHS' 'VLO' 'VTR' 'VRSN' 'VRSK' 'VZ' 'VRTX' 'VFC'\n",
      " 'VTRS' 'VICI' 'V' 'VNO' 'VMC' 'WAB' 'WBA' 'WMT' 'WBD' 'WM' 'WAT' 'WEC'\n",
      " 'WFC' 'WELL' 'WST' 'WDC' 'WRK' 'WY' 'WHR' 'WMB' 'WTW' 'GWW' 'WYNN' 'XEL'\n",
      " 'XYL' 'YUM' 'ZBRA' 'ZBH' 'ZION' 'ZTS']\n"
     ]
    }
   ],
   "source": [
    "print(data.columns)\n",
    "print(data['Exchange'].unique())\n",
    "print(data['Sector'].unique())\n",
    "print(data['Industry'].unique())\n",
    "print(data['Symbol'].unique())"
   ]
  },
  {
   "cell_type": "code",
   "execution_count": 36,
   "id": "ec79b555",
   "metadata": {},
   "outputs": [
    {
     "data": {
      "image/png": "[encoded data removed]",
      "text/plain": [
       "<Figure size 432x288 with 1 Axes>"
      ]
     },
     "metadata": {
      "needs_background": "light"
     },
     "output_type": "display_data"
    },
    {
     "data": {
      "text/plain": [
       "<Figure size 432x288 with 0 Axes>"
      ]
     },
     "metadata": {},
     "output_type": "display_data"
    },
    {
     "data": {
      "image/png": "[encoded data removed]",
      "text/plain": [
       "<Figure size 432x288 with 1 Axes>"
      ]
     },
     "metadata": {
      "needs_background": "light"
     },
     "output_type": "display_data"
    },
    {
     "data": {
      "image/png": "[encoded data removed]",
      "text/plain": [
       "<Figure size 432x288 with 1 Axes>"
      ]
     },
     "metadata": {
      "needs_background": "light"
     },
     "output_type": "display_data"
    },
    {
     "data": {
      "image/png": "[encoded data removed]",
      "text/plain": [
       "<Figure size 432x288 with 1 Axes>"
      ]
     },
     "metadata": {
      "needs_background": "light"
     },
     "output_type": "display_data"
    },
    {
     "data": {
      "text/plain": [
       "<Figure size 432x288 with 0 Axes>"
      ]
     },
     "metadata": {},
     "output_type": "display_data"
    }
   ],
   "source": [
    "#Plotting some distributions\n",
    "data.hist('Close', bins=[50, 100, 200, 400, 800, 1600])\n",
    "plt.ylabel('Count')\n",
    "plt.xlabel('Close price ($)')\n",
    "plt.show()\n",
    "plt.clf()\n",
    "\n",
    "data.hist('Volume', bins=[1e6, 5e6, 1e7, 5e7, 1e8, 5e8, 1e9])\n",
    "plt.xscale('log')\n",
    "plt.ylabel('Count')\n",
    "plt.xlabel('Trades')\n",
    "plt.show()\n",
    "plt.clf()\n",
    "\n",
    "plt.bar(data['Exchange'].value_counts().index, data['Exchange'].value_counts().values)\n",
    "plt.ylabel('Count')\n",
    "plt.show()\n",
    "plt.clf()\n",
    "\n",
    "plt.bar(data['Sector'].value_counts().index, data['Sector'].value_counts().values)\n",
    "plt.ylabel('Count')\n",
    "plt.xticks(rotation='vertical')\n",
    "plt.show()\n",
    "plt.clf()"
   ]
  },
  {
   "cell_type": "code",
   "execution_count": 37,
   "id": "7ddd3091",
   "metadata": {},
   "outputs": [
    {
     "data": {
      "text/plain": [
       "array(['CEG', 'ELV', 'GEN', 'META', 'PARA', 'SBUX', 'V', 'WBD', 'WTW'],\n",
       "      dtype=object)"
      ]
     },
     "execution_count": 37,
     "metadata": {},
     "output_type": "execute_result"
    }
   ],
   "source": [
    "#Some exchange values are NaN, let's investigate which companies\n",
    "#do not have an exchange or have incomplete data.\n",
    "data.loc[data['Exchange'].isna()]['Symbol'].unique()"
   ]
  },
  {
   "cell_type": "code",
   "execution_count": 38,
   "id": "3a12be9d",
   "metadata": {},
   "outputs": [
    {
     "name": "stdout",
     "output_type": "stream",
     "text": [
      "               Date Symbol   Adj Close       Close        High         Low  \\\n",
      "1016965  2022-12-21   META  119.760002  119.760002  120.339996  115.620003   \n",
      "1016966  2022-12-22   META  117.120003  117.120003  118.620003  114.379997   \n",
      "1016967  2022-12-23   META  118.040001  118.040001  118.180000  115.540001   \n",
      "1016968  2022-12-27   META  116.879997  116.879997  118.599998  116.050003   \n",
      "1016969  2022-12-28   META  115.620003  115.620003  118.129997  115.519997   \n",
      "\n",
      "               Open      Volume Exchange Shortname  ... Currentprice  \\\n",
      "1016965  116.699997  20392800.0      NaN       NaN  ...          NaN   \n",
      "1016966  117.199997  23618100.0      NaN       NaN  ...          NaN   \n",
      "1016967  116.029999  17782900.0      NaN       NaN  ...          NaN   \n",
      "1016968  117.930000  21392300.0      NaN       NaN  ...          NaN   \n",
      "1016969  116.250000  19280132.0      NaN       NaN  ...          NaN   \n",
      "\n",
      "        Marketcap Ebitda  Revenuegrowth  City  State  Country  \\\n",
      "1016965       NaN    NaN            NaN   NaN    NaN      NaN   \n",
      "1016966       NaN    NaN            NaN   NaN    NaN      NaN   \n",
      "1016967       NaN    NaN            NaN   NaN    NaN      NaN   \n",
      "1016968       NaN    NaN            NaN   NaN    NaN      NaN   \n",
      "1016969       NaN    NaN            NaN   NaN    NaN      NaN   \n",
      "\n",
      "        Fulltimeemployees Longbusinesssummary Weight  \n",
      "1016965               NaN                 NaN    NaN  \n",
      "1016966               NaN                 NaN    NaN  \n",
      "1016967               NaN                 NaN    NaN  \n",
      "1016968               NaN                 NaN    NaN  \n",
      "1016969               NaN                 NaN    NaN  \n",
      "\n",
      "[5 rows x 23 columns]\n",
      "               Date Symbol  Adj Close  Close  High  Low  Open  Volume  \\\n",
      "1013700  2010-01-04   META        NaN    NaN   NaN  NaN   NaN     NaN   \n",
      "1013701  2010-01-05   META        NaN    NaN   NaN  NaN   NaN     NaN   \n",
      "1013702  2010-01-06   META        NaN    NaN   NaN  NaN   NaN     NaN   \n",
      "1013703  2010-01-07   META        NaN    NaN   NaN  NaN   NaN     NaN   \n",
      "1013704  2010-01-08   META        NaN    NaN   NaN  NaN   NaN     NaN   \n",
      "\n",
      "        Exchange Shortname  ... Currentprice Marketcap Ebitda  Revenuegrowth  \\\n",
      "1013700      NaN       NaN  ...          NaN       NaN    NaN            NaN   \n",
      "1013701      NaN       NaN  ...          NaN       NaN    NaN            NaN   \n",
      "1013702      NaN       NaN  ...          NaN       NaN    NaN            NaN   \n",
      "1013703      NaN       NaN  ...          NaN       NaN    NaN            NaN   \n",
      "1013704      NaN       NaN  ...          NaN       NaN    NaN            NaN   \n",
      "\n",
      "         City  State  Country Fulltimeemployees Longbusinesssummary Weight  \n",
      "1013700   NaN    NaN      NaN               NaN                 NaN    NaN  \n",
      "1013701   NaN    NaN      NaN               NaN                 NaN    NaN  \n",
      "1013702   NaN    NaN      NaN               NaN                 NaN    NaN  \n",
      "1013703   NaN    NaN      NaN               NaN                 NaN    NaN  \n",
      "1013704   NaN    NaN      NaN               NaN                 NaN    NaN  \n",
      "\n",
      "[5 rows x 23 columns]\n"
     ]
    }
   ],
   "source": [
    "#Looking at a specific case\n",
    "print(data.loc[data['Symbol'] == 'META'].tail())\n",
    "print(data.loc[data['Symbol'] == 'META'].head())"
   ]
  },
  {
   "cell_type": "markdown",
   "id": "f92ccce1",
   "metadata": {},
   "source": [
    "Either from the way the data was loaded in, or the way the dataset was constructed, the dataframe holds NaNs for dates that were before a stock existed. I'm not sure what to do with this yet, because each symbol having the same number of data points proves useful later (when making the moving average)."
   ]
  },
  {
   "cell_type": "code",
   "execution_count": 39,
   "id": "ed4b2549",
   "metadata": {},
   "outputs": [],
   "source": [
    "#Making a new column for companies with relatively small, medium or large marketcaps.\n",
    "data['cap_grouping'] = pd.qcut(data['Marketcap'], q=3, labels=['small', 'medium', 'large'])"
   ]
  },
  {
   "cell_type": "code",
   "execution_count": 40,
   "id": "a5dac3e1",
   "metadata": {},
   "outputs": [],
   "source": [
    "#Making a ten day moving average column using .rolling method\n",
    "#3270 is the number of data points for each company\n",
    "tenday_avg = []\n",
    "for i in range(int(len(data)/3270)):\n",
    "    rolling = data['Close'].iloc[i*3270:(i+1)*3270].rolling(10)\n",
    "    tenday_avg.extend(list(rolling.mean()))"
   ]
  },
  {
   "cell_type": "code",
   "execution_count": 49,
   "id": "8e4ff1ba",
   "metadata": {},
   "outputs": [],
   "source": [
    "#Add this list as a column in the dataframe\n",
    "data['tenday_avg'] = tenday_avg"
   ]
  },
  {
   "cell_type": "code",
   "execution_count": 52,
   "id": "fdce096b",
   "metadata": {},
   "outputs": [],
   "source": [
    "#Save to file\n",
    "data.to_csv('data/wrangled_data.csv')"
   ]
  }
 ],
 "metadata": {
  "kernelspec": {
   "display_name": "Python 3 (ipykernel)",
   "language": "python",
   "name": "python3"
  },
  "language_info": {
   "codemirror_mode": {
    "name": "ipython",
    "version": 3
   },
   "file_extension": ".py",
   "mimetype": "text/x-python",
   "name": "python",
   "nbconvert_exporter": "python",
   "pygments_lexer": "ipython3",
   "version": "3.9.7"
  }
 },
 "nbformat": 4,
 "nbformat_minor": 5
}
