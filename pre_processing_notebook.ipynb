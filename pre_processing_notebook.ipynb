{
 "cells": [
  {
   "cell_type": "code",
   "execution_count": 1,
   "id": "9168d94e",
   "metadata": {},
   "outputs": [],
   "source": [
    "import pandas as pd\n",
    "import numpy as np\n",
    "import matplotlib.pyplot as plt\n",
    "import seaborn as sns\n",
    "from sklearn.preprocessing import StandardScaler\n",
    "from sklearn.model_selection import train_test_split"
   ]
  },
  {
   "cell_type": "code",
   "execution_count": 2,
   "id": "2fb3485f",
   "metadata": {},
   "outputs": [],
   "source": [
    "df = pd.read_csv('data/eda_data.csv', index_col=0)"
   ]
  },
  {
   "cell_type": "code",
   "execution_count": 3,
   "id": "c8777096",
   "metadata": {
    "scrolled": false
   },
   "outputs": [
    {
     "data": {
      "text/html": [
       "<div>\n",
       "<style scoped>\n",
       "    .dataframe tbody tr th:only-of-type {\n",
       "        vertical-align: middle;\n",
       "    }\n",
       "\n",
       "    .dataframe tbody tr th {\n",
       "        vertical-align: top;\n",
       "    }\n",
       "\n",
       "    .dataframe thead th {\n",
       "        text-align: right;\n",
       "    }\n",
       "</style>\n",
       "<table border=\"1\" class=\"dataframe\">\n",
       "  <thead>\n",
       "    <tr style=\"text-align: right;\">\n",
       "      <th></th>\n",
       "      <th>Date</th>\n",
       "      <th>Symbol</th>\n",
       "      <th>Adj Close</th>\n",
       "      <th>Close</th>\n",
       "      <th>High</th>\n",
       "      <th>Low</th>\n",
       "      <th>Open</th>\n",
       "      <th>Volume</th>\n",
       "      <th>Exchange</th>\n",
       "      <th>Shortname</th>\n",
       "      <th>...</th>\n",
       "      <th>sma12</th>\n",
       "      <th>sma26</th>\n",
       "      <th>ema12</th>\n",
       "      <th>ema26</th>\n",
       "      <th>diff_ema12</th>\n",
       "      <th>diff_ema26</th>\n",
       "      <th>macd</th>\n",
       "      <th>macd_sma9</th>\n",
       "      <th>signal_line</th>\n",
       "      <th>macd_diff_signal</th>\n",
       "    </tr>\n",
       "  </thead>\n",
       "  <tbody>\n",
       "    <tr>\n",
       "      <th>0</th>\n",
       "      <td>2010-01-04</td>\n",
       "      <td>MMM</td>\n",
       "      <td>59.318886</td>\n",
       "      <td>83.019997</td>\n",
       "      <td>83.449997</td>\n",
       "      <td>82.669998</td>\n",
       "      <td>83.089996</td>\n",
       "      <td>3043700.0</td>\n",
       "      <td>NYQ</td>\n",
       "      <td>3M Company</td>\n",
       "      <td>...</td>\n",
       "      <td>NaN</td>\n",
       "      <td>NaN</td>\n",
       "      <td>NaN</td>\n",
       "      <td>NaN</td>\n",
       "      <td>NaN</td>\n",
       "      <td>NaN</td>\n",
       "      <td>NaN</td>\n",
       "      <td>NaN</td>\n",
       "      <td>NaN</td>\n",
       "      <td>NaN</td>\n",
       "    </tr>\n",
       "    <tr>\n",
       "      <th>1</th>\n",
       "      <td>2010-01-05</td>\n",
       "      <td>MMM</td>\n",
       "      <td>58.947342</td>\n",
       "      <td>82.500000</td>\n",
       "      <td>83.230003</td>\n",
       "      <td>81.699997</td>\n",
       "      <td>82.800003</td>\n",
       "      <td>2847000.0</td>\n",
       "      <td>NYQ</td>\n",
       "      <td>3M Company</td>\n",
       "      <td>...</td>\n",
       "      <td>NaN</td>\n",
       "      <td>NaN</td>\n",
       "      <td>NaN</td>\n",
       "      <td>NaN</td>\n",
       "      <td>NaN</td>\n",
       "      <td>NaN</td>\n",
       "      <td>NaN</td>\n",
       "      <td>NaN</td>\n",
       "      <td>NaN</td>\n",
       "      <td>NaN</td>\n",
       "    </tr>\n",
       "    <tr>\n",
       "      <th>2</th>\n",
       "      <td>2010-01-06</td>\n",
       "      <td>MMM</td>\n",
       "      <td>59.783295</td>\n",
       "      <td>83.669998</td>\n",
       "      <td>84.599998</td>\n",
       "      <td>83.510002</td>\n",
       "      <td>83.879997</td>\n",
       "      <td>5268500.0</td>\n",
       "      <td>NYQ</td>\n",
       "      <td>3M Company</td>\n",
       "      <td>...</td>\n",
       "      <td>NaN</td>\n",
       "      <td>NaN</td>\n",
       "      <td>NaN</td>\n",
       "      <td>NaN</td>\n",
       "      <td>NaN</td>\n",
       "      <td>NaN</td>\n",
       "      <td>NaN</td>\n",
       "      <td>NaN</td>\n",
       "      <td>NaN</td>\n",
       "      <td>NaN</td>\n",
       "    </tr>\n",
       "    <tr>\n",
       "      <th>3</th>\n",
       "      <td>2010-01-07</td>\n",
       "      <td>MMM</td>\n",
       "      <td>59.826176</td>\n",
       "      <td>83.730003</td>\n",
       "      <td>83.760002</td>\n",
       "      <td>82.120003</td>\n",
       "      <td>83.320000</td>\n",
       "      <td>4470100.0</td>\n",
       "      <td>NYQ</td>\n",
       "      <td>3M Company</td>\n",
       "      <td>...</td>\n",
       "      <td>NaN</td>\n",
       "      <td>NaN</td>\n",
       "      <td>NaN</td>\n",
       "      <td>NaN</td>\n",
       "      <td>NaN</td>\n",
       "      <td>NaN</td>\n",
       "      <td>NaN</td>\n",
       "      <td>NaN</td>\n",
       "      <td>NaN</td>\n",
       "      <td>NaN</td>\n",
       "    </tr>\n",
       "    <tr>\n",
       "      <th>4</th>\n",
       "      <td>2010-01-08</td>\n",
       "      <td>MMM</td>\n",
       "      <td>60.247749</td>\n",
       "      <td>84.320000</td>\n",
       "      <td>84.320000</td>\n",
       "      <td>83.300003</td>\n",
       "      <td>83.690002</td>\n",
       "      <td>3405800.0</td>\n",
       "      <td>NYQ</td>\n",
       "      <td>3M Company</td>\n",
       "      <td>...</td>\n",
       "      <td>NaN</td>\n",
       "      <td>NaN</td>\n",
       "      <td>NaN</td>\n",
       "      <td>NaN</td>\n",
       "      <td>NaN</td>\n",
       "      <td>NaN</td>\n",
       "      <td>NaN</td>\n",
       "      <td>NaN</td>\n",
       "      <td>NaN</td>\n",
       "      <td>NaN</td>\n",
       "    </tr>\n",
       "  </tbody>\n",
       "</table>\n",
       "<p>5 rows × 42 columns</p>\n",
       "</div>"
      ],
      "text/plain": [
       "         Date Symbol  Adj Close      Close       High        Low       Open  \\\n",
       "0  2010-01-04    MMM  59.318886  83.019997  83.449997  82.669998  83.089996   \n",
       "1  2010-01-05    MMM  58.947342  82.500000  83.230003  81.699997  82.800003   \n",
       "2  2010-01-06    MMM  59.783295  83.669998  84.599998  83.510002  83.879997   \n",
       "3  2010-01-07    MMM  59.826176  83.730003  83.760002  82.120003  83.320000   \n",
       "4  2010-01-08    MMM  60.247749  84.320000  84.320000  83.300003  83.690002   \n",
       "\n",
       "      Volume Exchange   Shortname  ... sma12 sma26 ema12  ema26  diff_ema12  \\\n",
       "0  3043700.0      NYQ  3M Company  ...   NaN   NaN   NaN    NaN         NaN   \n",
       "1  2847000.0      NYQ  3M Company  ...   NaN   NaN   NaN    NaN         NaN   \n",
       "2  5268500.0      NYQ  3M Company  ...   NaN   NaN   NaN    NaN         NaN   \n",
       "3  4470100.0      NYQ  3M Company  ...   NaN   NaN   NaN    NaN         NaN   \n",
       "4  3405800.0      NYQ  3M Company  ...   NaN   NaN   NaN    NaN         NaN   \n",
       "\n",
       "   diff_ema26  macd macd_sma9 signal_line macd_diff_signal  \n",
       "0         NaN   NaN       NaN         NaN              NaN  \n",
       "1         NaN   NaN       NaN         NaN              NaN  \n",
       "2         NaN   NaN       NaN         NaN              NaN  \n",
       "3         NaN   NaN       NaN         NaN              NaN  \n",
       "4         NaN   NaN       NaN         NaN              NaN  \n",
       "\n",
       "[5 rows x 42 columns]"
      ]
     },
     "execution_count": 3,
     "metadata": {},
     "output_type": "execute_result"
    }
   ],
   "source": [
    "df.head()"
   ]
  },
  {
   "cell_type": "code",
   "execution_count": 4,
   "id": "4e8a7d0c",
   "metadata": {},
   "outputs": [
    {
     "data": {
      "text/plain": [
       "Index(['Date', 'Symbol', 'Adj Close', 'Close', 'High', 'Low', 'Open', 'Volume',\n",
       "       'Exchange', 'Shortname', 'Longname', 'Sector', 'Industry',\n",
       "       'Currentprice', 'Marketcap', 'Ebitda', 'Revenuegrowth', 'City', 'State',\n",
       "       'Country', 'Fulltimeemployees', 'Longbusinesssummary', 'Weight',\n",
       "       'cap_grouping', 'tenday_avg', 'next_close', 'prev_close', 'return',\n",
       "       'diff_day', 'diff_10day', 'up', 'gain_loss', 'sma12', 'sma26', 'ema12',\n",
       "       'ema26', 'diff_ema12', 'diff_ema26', 'macd', 'macd_sma9', 'signal_line',\n",
       "       'macd_diff_signal'],\n",
       "      dtype='object')"
      ]
     },
     "execution_count": 4,
     "metadata": {},
     "output_type": "execute_result"
    }
   ],
   "source": [
    "df.columns"
   ]
  },
  {
   "cell_type": "code",
   "execution_count": 5,
   "id": "1bdda29d",
   "metadata": {},
   "outputs": [],
   "source": [
    "#Separating the categorical columns that are of interest to us and making  dummy variables\n",
    "#for them with drop_first=True so that we do not have unnecessary information.\n",
    "cat_cols = ['Exchange', 'Sector', 'cap_grouping']\n",
    "dummy_df = pd.get_dummies(df[cat_cols], drop_first=True)"
   ]
  },
  {
   "cell_type": "code",
   "execution_count": 6,
   "id": "d7e9ade5",
   "metadata": {},
   "outputs": [],
   "source": [
    "#Putting the dummy variables into the main dataframe\n",
    "df = df.join(dummy_df)\n",
    "df.drop(columns=['Exchange', 'Sector', 'cap_grouping'], inplace=True)"
   ]
  },
  {
   "cell_type": "code",
   "execution_count": 7,
   "id": "68aab3c1",
   "metadata": {},
   "outputs": [],
   "source": [
    "#up is a bool so we can just make it an integer\n",
    "df['up'] = df['up'].astype(int)"
   ]
  },
  {
   "cell_type": "code",
   "execution_count": 8,
   "id": "b8a5c7d9",
   "metadata": {},
   "outputs": [],
   "source": [
    "#Picking the features we want to use for X and for y and assigning them to variables\n",
    "X = df.loc[:,['return', 'gain_loss', 'macd', 'macd_diff_signal', \\\n",
    "              'diff_day', 'diff_10day', 'diff_ema12', 'diff_ema26',\\\n",
    "              'Exchange_NGM', 'Exchange_NMS', 'Exchange_NYQ', \\\n",
    "              'Sector_Communication Services', 'Sector_Consumer Cyclical', \\\n",
    "              'Sector_Consumer Defensive', 'Sector_Energy', \\\n",
    "              'Sector_Financial Services', 'Sector_Healthcare', 'Sector_Industrials', \\\n",
    "              'Sector_Real Estate', 'Sector_Technology', 'Sector_Utilities', \\\n",
    "              'cap_grouping_medium', 'cap_grouping_small']]\n",
    "y = df.loc[:,['next_close']]"
   ]
  },
  {
   "cell_type": "code",
   "execution_count": 9,
   "id": "8dcf4449",
   "metadata": {},
   "outputs": [],
   "source": [
    "#Splitting data into training and testing\n",
    "X_train, X_test, y_train, y_test = train_test_split(X, y, random_state=2)"
   ]
  },
  {
   "cell_type": "code",
   "execution_count": 10,
   "id": "e8693518",
   "metadata": {},
   "outputs": [],
   "source": [
    "#Instantiating a scaler, fitting it to the training data ONLY and transforming\n",
    "ss = StandardScaler()\n",
    "X_train_scaled = ss.fit_transform(X_train)\n",
    "X_test_scaled = ss.transform(X_test)"
   ]
  },
  {
   "cell_type": "code",
   "execution_count": null,
   "id": "16c11546",
   "metadata": {},
   "outputs": [],
   "source": []
  }
 ],
 "metadata": {
  "kernelspec": {
   "display_name": "Python 3 (ipykernel)",
   "language": "python",
   "name": "python3"
  },
  "language_info": {
   "codemirror_mode": {
    "name": "ipython",
    "version": 3
   },
   "file_extension": ".py",
   "mimetype": "text/x-python",
   "name": "python",
   "nbconvert_exporter": "python",
   "pygments_lexer": "ipython3",
   "version": "3.9.13"
  }
 },
 "nbformat": 4,
 "nbformat_minor": 5
}
